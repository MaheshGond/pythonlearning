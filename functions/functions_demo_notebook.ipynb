{
 "cells": [
  {
   "cell_type": "markdown",
   "id": "679fdc01",
   "metadata": {},
   "source": [
    "## Simple Function in Python"
   ]
  },
  {
   "cell_type": "code",
   "execution_count": 9,
   "id": "1697b4c8",
   "metadata": {},
   "outputs": [
    {
     "name": "stdout",
     "output_type": "stream",
     "text": [
      "Printing avg function demo---> 115.85714285714286\n"
     ]
    }
   ],
   "source": [
    "\n",
    "def avg(values):\n",
    "    return sum(values)/len(values)\n",
    "\n",
    "vals = [12, 1,2,3,4,5,784]\n",
    "print(\"Printing avg function demo--->\", avg(vals))"
   ]
  },
  {
   "cell_type": "markdown",
   "id": "3fe16797",
   "metadata": {},
   "source": [
    "## Function with any number of arguments"
   ]
  },
  {
   "cell_type": "code",
   "execution_count": 10,
   "id": "9893efcb",
   "metadata": {},
   "outputs": [
    {
     "name": "stdout",
     "output_type": "stream",
     "text": [
      "Printing avg function demo---> 115.85714285714286\n"
     ]
    }
   ],
   "source": [
    "def avg(first, *rest):\n",
    "    return (first + sum(rest))/(1+len(rest))\n",
    " \n",
    "print(\"Printing avg function demo--->\", avg(12, 1,2,3,4,5,784))"
   ]
  },
  {
   "cell_type": "markdown",
   "id": "220fa7aa",
   "metadata": {},
   "source": [
    "## Function that accepts keyword arguments"
   ]
  },
  {
   "cell_type": "code",
   "execution_count": 11,
   "id": "d15e5ea0",
   "metadata": {},
   "outputs": [
    {
     "name": "stdout",
     "output_type": "stream",
     "text": [
      "without keyword -2\n",
      "with keyword 0\n"
     ]
    }
   ],
   "source": [
    "\n",
    "def minimum_dem(*values, clip= None):\n",
    "    m = min(values)\n",
    "    if clip is not None:\n",
    "        m = clip if clip > m else m\n",
    "    return m\n",
    "\n",
    "\n",
    "print(\"without keyword\", minimum_dem(1,3,4,-2,8))\n",
    "print(\"with keyword\", minimum_dem(1,3,4,-2,8, clip = 0))\n",
    "# print(\"without keyword\", minimum_dem(1,3,4,-2,8))"
   ]
  }
 ],
 "metadata": {
  "kernelspec": {
   "display_name": "Python 3 (ipykernel)",
   "language": "python",
   "name": "python3"
  },
  "language_info": {
   "codemirror_mode": {
    "name": "ipython",
    "version": 3
   },
   "file_extension": ".py",
   "mimetype": "text/x-python",
   "name": "python",
   "nbconvert_exporter": "python",
   "pygments_lexer": "ipython3",
   "version": "3.10.7"
  }
 },
 "nbformat": 4,
 "nbformat_minor": 5
}
