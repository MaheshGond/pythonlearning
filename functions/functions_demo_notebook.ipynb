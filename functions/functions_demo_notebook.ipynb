{
 "cells": [
  {
   "cell_type": "markdown",
   "id": "679fdc01",
   "metadata": {},
   "source": [
    "## 1. Simple Function in Python"
   ]
  },
  {
   "cell_type": "code",
   "execution_count": 9,
   "id": "1697b4c8",
   "metadata": {},
   "outputs": [
    {
     "name": "stdout",
     "output_type": "stream",
     "text": [
      "Printing avg function demo---> 115.85714285714286\n"
     ]
    }
   ],
   "source": [
    "\n",
    "def avg(values):\n",
    "    return sum(values)/len(values)\n",
    "\n",
    "vals = [12, 1,2,3,4,5,784]\n",
    "print(\"Printing avg function demo--->\", avg(vals))"
   ]
  },
  {
   "cell_type": "markdown",
   "id": "3fe16797",
   "metadata": {},
   "source": [
    "## 2. Function with any number of arguments"
   ]
  },
  {
   "cell_type": "code",
   "execution_count": 10,
   "id": "9893efcb",
   "metadata": {},
   "outputs": [
    {
     "name": "stdout",
     "output_type": "stream",
     "text": [
      "Printing avg function demo---> 115.85714285714286\n"
     ]
    }
   ],
   "source": [
    "def avg(first, *rest):\n",
    "    return (first + sum(rest))/(1+len(rest))\n",
    " \n",
    "print(\"Printing avg function demo--->\", avg(12, 1,2,3,4,5,784))"
   ]
  },
  {
   "cell_type": "markdown",
   "id": "220fa7aa",
   "metadata": {},
   "source": [
    "## 3. Function that accepts keyword arguments"
   ]
  },
  {
   "cell_type": "code",
   "execution_count": 11,
   "id": "d15e5ea0",
   "metadata": {},
   "outputs": [
    {
     "name": "stdout",
     "output_type": "stream",
     "text": [
      "without keyword -2\n",
      "with keyword 0\n"
     ]
    }
   ],
   "source": [
    "\n",
    "def minimum_dem(*values, clip= None):\n",
    "    m = min(values)\n",
    "    if clip is not None:\n",
    "        m = clip if clip > m else m\n",
    "    return m\n",
    "\n",
    "\n",
    "print(\"without keyword\", minimum_dem(1,3,4,-2,8))\n",
    "print(\"with keyword\", minimum_dem(1,3,4,-2,8, clip = 0))\n",
    "# print(\"without keyword\", minimum_dem(1,3,4,-2,8))"
   ]
  },
  {
   "cell_type": "markdown",
   "id": "a57119aa",
   "metadata": {},
   "source": [
    "## 4. Attaching metadata to function\n",
    "Makes code readble"
   ]
  },
  {
   "cell_type": "code",
   "execution_count": 1,
   "id": "e79d3da3",
   "metadata": {},
   "outputs": [
    {
     "name": "stdout",
     "output_type": "stream",
     "text": [
      "9\n",
      "2.0\n"
     ]
    }
   ],
   "source": [
    "def add(x:int , y:int) -> int:\n",
    "    return x + y\n",
    "\n",
    "def divide(x:int, y:int) -> float:\n",
    "    return x/y\n",
    "\n",
    "x= 6 \n",
    "y = 3\n",
    "\n",
    "print(add(x,y))\n",
    "print(divide(x,y))"
   ]
  },
  {
   "cell_type": "markdown",
   "id": "335a601e",
   "metadata": {},
   "source": [
    "## 5. Returning Multiple Values"
   ]
  },
  {
   "cell_type": "code",
   "execution_count": 22,
   "id": "15f2d544",
   "metadata": {},
   "outputs": [
    {
     "name": "stdout",
     "output_type": "stream",
     "text": [
      "Div 2.0 Remin 0\n"
     ]
    }
   ],
   "source": [
    "\n",
    "def get_div_and_reminder(x:int , y:int):\n",
    "    div = x/y\n",
    "    rem = (x%y)\n",
    "    return div,rem\n",
    "\n",
    "x= 6 \n",
    "y = 3\n",
    "\n",
    "p, q = get_div_and_reminder(x,y)\n",
    "print(\"Div\", p ,\"Remin\", q)\n"
   ]
  },
  {
   "cell_type": "markdown",
   "id": "03cb83f4",
   "metadata": {},
   "source": [
    "## 6. Function with default arguments"
   ]
  },
  {
   "cell_type": "code",
   "execution_count": 23,
   "id": "59427a4b",
   "metadata": {},
   "outputs": [
    {
     "name": "stdout",
     "output_type": "stream",
     "text": [
      "Hellooooooooooooo Umesh\n",
      "Hellooooooooooooo Mahesh\n"
     ]
    }
   ],
   "source": [
    "\n",
    "def callout_name(inp_name=\"Mahesh\"):\n",
    "    print(\"Hellooooooooooooo\", inp_name)\n",
    "    \n",
    "callout_name(\"Umesh\")\n",
    "callout_name()"
   ]
  },
  {
   "cell_type": "markdown",
   "id": "a9fef73c",
   "metadata": {},
   "source": [
    "### 6.1 Special Case of assiging dynamically"
   ]
  },
  {
   "cell_type": "code",
   "execution_count": 27,
   "id": "ffea7e60",
   "metadata": {},
   "outputs": [
    {
     "name": "stdout",
     "output_type": "stream",
     "text": [
      "Hellooooooooooooo Don\n",
      "Hellooooooooooooo Mahesh\n",
      "Hellooooooooooooo Don\n"
     ]
    }
   ],
   "source": [
    "x = \"Don\"\n",
    "\n",
    "def callout_name(inp_name= x):\n",
    "    print(\"Hellooooooooooooo\", inp_name)\n",
    "\n",
    "callout_name() # Uses default value\n",
    "callout_name(\"Mahesh\") # Uses provided value\n",
    "\n",
    "x = \"Umesh\"\n",
    "callout_name() # No effect uses same default value"
   ]
  },
  {
   "cell_type": "markdown",
   "id": "f4019bbb",
   "metadata": {},
   "source": [
    "## 7. Lambda function"
   ]
  },
  {
   "cell_type": "code",
   "execution_count": 28,
   "id": "0cab97fb",
   "metadata": {},
   "outputs": [
    {
     "data": {
      "text/plain": [
       "5"
      ]
     },
     "execution_count": 28,
     "metadata": {},
     "output_type": "execute_result"
    }
   ],
   "source": [
    "add = lambda x,y: x+y\n",
    "\n",
    "add(2,3)"
   ]
  },
  {
   "cell_type": "markdown",
   "id": "0eec5fac",
   "metadata": {},
   "source": [
    "### 7.1 Variable values in Lambda function\n",
    "     Values get assigned at runtime not define time as seen above"
   ]
  },
  {
   "cell_type": "code",
   "execution_count": null,
   "id": "47bda58c",
   "metadata": {},
   "outputs": [],
   "source": [
    "x = 10\n",
    "a = lambda y: x+y\n",
    "x = 20\n",
    "b = lambda y: x+y\n",
    "\n",
    "print(a(10)) # should return 20 but noooo\n",
    "print(b(10)) # should return 30 Yes\n",
    "\n",
    "\n",
    "## To Make it capture values are define time we assign values like this \n",
    "\n",
    "x = 10\n",
    "a = lambda y, x=x: x+y\n",
    "x = 20\n",
    "b = lambda y, x=x: x+y\n",
    "\n",
    "print(\"-\"*20)\n",
    "print(\"After mod\")\n",
    "print(a(10)) # should return 20 Yes\n",
    "print(b(10)) # should return 30 Yes"
   ]
  },
  {
   "cell_type": "markdown",
   "id": "a3e6ab0c",
   "metadata": {},
   "source": [
    "## 8. Extra State with callback"
   ]
  },
  {
   "cell_type": "code",
   "execution_count": 2,
   "id": "d86d5085",
   "metadata": {},
   "outputs": [
    {
     "name": "stdout",
     "output_type": "stream",
     "text": [
      "Got:  6\n"
     ]
    }
   ],
   "source": [
    "def apply_async(func, args, *, callback):\n",
    "    result = func(*args)\n",
    "    callback(result)\n",
    "\n",
    "def print_result(result):\n",
    "    print(\"Got: \", result)\n",
    "\n",
    "def add(x,y):\n",
    "    return x+y\n",
    "\n",
    "apply_async(add, (2,4), callback=print_result)"
   ]
  }
 ],
 "metadata": {
  "kernelspec": {
   "display_name": "Python 3 (ipykernel)",
   "language": "python",
   "name": "python3"
  },
  "language_info": {
   "codemirror_mode": {
    "name": "ipython",
    "version": 3
   },
   "file_extension": ".py",
   "mimetype": "text/x-python",
   "name": "python",
   "nbconvert_exporter": "python",
   "pygments_lexer": "ipython3",
   "version": "3.10.7"
  }
 },
 "nbformat": 4,
 "nbformat_minor": 5
}
